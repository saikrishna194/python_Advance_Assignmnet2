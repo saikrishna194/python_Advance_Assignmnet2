{
  "nbformat": 4,
  "nbformat_minor": 0,
  "metadata": {
    "colab": {
      "name": "python_Advance_Assignmnet2.ipynb",
      "provenance": []
    },
    "kernelspec": {
      "name": "python3",
      "display_name": "Python 3"
    },
    "language_info": {
      "name": "python"
    }
  },
  "cells": [
    {
      "cell_type": "markdown",
      "source": [
        "Q1. What is the relationship between classes and modules?\n",
        "\n",
        "**Asw** A Python class is like an outline/blueprint/mold for creating a new object. An object is anything that you wish to manipulate or change while working through the code. Every time a class object is instantiated, which is when we declare a variable, a new object is initiated from scratch\n",
        "\n",
        "Whereas in Python, Modules are simply files with the . py extension containing Python code that can be imported inside another Python Program. In simple terms, we can consider a module to be the same as a code library or a file that contains a set of functions/Classes that you want to include in your application."
      ],
      "metadata": {
        "id": "3gVxFo68-fjA"
      }
    },
    {
      "cell_type": "markdown",
      "source": [
        "Q2.How do you make instances and classes?\n",
        "\n",
        "**Ans:** For creating a class instance. we call a class by its name and pass the arguments which its __init__ method accepts.\n",
        "\n",
        "Example: vishwak = employee('Male',20000), Here vishwak is an instance of class employee with attriubutes 'Male' and 20000.\n",
        "\n",
        "Whereas for creating a class, we use the Class keyword. Class keyword is followed by classname and semicolon.\n",
        "\n",
        "Example: Here Employee is a class created with class keyword with arguments gender and salary.\n",
        "\n",
        "\n",
        "class Employee:\n",
        "\n",
        "    def __init__(self, gender,salary):\n",
        "\n",
        "        self.gender = gender\n",
        "\n",
        "        self.salary = salary"
      ],
      "metadata": {
        "id": "Ys7eJhZi-nWi"
      }
    },
    {
      "cell_type": "markdown",
      "source": [
        "Q3. Where and how should be class attributes created?\n",
        "\n",
        "**Ans:** Class attributes or Class level Attributes belong to the class itself. these attributes will be shared by all the instances of the class. Hence these attributes are usually created/defined in the top of class definiation outside all methods.\n",
        "\n",
        "Example: In the below code we are defining a class attribute called no_of_wheels which will be shared by all the instances of the class Car\n",
        "\n",
        "class Car:\n",
        "    no_of_wheels = 4; # this is a class attribute\n",
        "\n",
        "    def __init__(self,color,price,engine):\n",
        "\n",
        "        self.color = color # All this are instance attributes\n",
        "\n",
        "        self.price = price\n",
        "        \n",
        "        self.engine = engine"
      ],
      "metadata": {
        "id": "tbJm43jB-why"
      }
    },
    {
      "cell_type": "markdown",
      "source": [
        "Q4. Where and how are instance attributes created?\n",
        "\n",
        "**Ans:** Instances attributes are passed to the class when an object of the class is created. Unlike class attributes, instance attributes are not shared by all objects of the classs. instead each object maintains its own copy of instance attributes at object level. whereas incase of class attributes all instances of class refer to a single copy. Usually instance attributes are defined within the __init__ method of class\n"
      ],
      "metadata": {
        "id": "m7p0P6zE_IwI"
      }
    },
    {
      "cell_type": "markdown",
      "source": [
        "Q5. What does the term \"self\" in a Python class mean?\n",
        "\n",
        "**Ans**: self represents the instance of the class (it represents the object itself). By using the “self” keyword we can access the attributes and methods of the class with in the class in python. It binds the attributes with the given arguments."
      ],
      "metadata": {
        "id": "DIdQ8uEO_yzR"
      }
    },
    {
      "cell_type": "code",
      "source": [
        "class Car:\n",
        "    def __init__(self,color,price,engine):\n",
        "        self.color = color # All this are instance attributes\n",
        "        self.price = price\n",
        "        self.engine = engine\n",
        "\n",
        "nexon_ev = Car('Indigo Blue', 1400000, 'electric')\n",
        "safari = Car('Benz',2100000, 'petrol')\n",
        "\n",
        "print(nexon_ev.__dict__)\n",
        "print(safari.__dict__)"
      ],
      "metadata": {
        "colab": {
          "base_uri": "https://localhost:8080/"
        },
        "id": "9Siy7fqW_9WR",
        "outputId": "88ffae0f-ad83-435a-ea78-e28ade742217"
      },
      "execution_count": 5,
      "outputs": [
        {
          "output_type": "stream",
          "name": "stdout",
          "text": [
            "{'color': 'Indigo Blue', 'price': 1400000, 'engine': 'electric'}\n",
            "{'color': 'Benz', 'price': 2100000, 'engine': 'petrol'}\n"
          ]
        }
      ]
    },
    {
      "cell_type": "markdown",
      "source": [
        "Q6. How does a Python class handle operator overloading?\n",
        "\n",
        "**Ans:** Python Classes handle operator overloading by using special methods called Magic methods. these special methods usually begin and end with __ (double underscore)\n",
        "Example: Magic methods for basic arithmetic operators are:\n",
        "\n",
        "+ -> __add__()\n",
        "- -> __sub__()\n",
        "* -> __mul__()\n",
        "/ -> __div__()"
      ],
      "metadata": {
        "id": "zjOTCMouAGso"
      }
    },
    {
      "cell_type": "code",
      "source": [
        "class Book:\n",
        "    def __init__(self,pages):\n",
        "        self.pages = pages\n",
        "    def __add__(self,other):\n",
        "        return self.pages + other.pages\n",
        "b1 = Book(300)\n",
        "b2 = Book(100)\n",
        "print(f'The total number of pages in 2 books is {b1+b2}')"
      ],
      "metadata": {
        "colab": {
          "base_uri": "https://localhost:8080/"
        },
        "id": "58Flv-GQALPf",
        "outputId": "6903ffc9-aa5f-43da-a700-79b937f642b1"
      },
      "execution_count": 7,
      "outputs": [
        {
          "output_type": "stream",
          "name": "stdout",
          "text": [
            "The total number of pages in 2 books is 400\n"
          ]
        }
      ]
    },
    {
      "cell_type": "markdown",
      "source": [
        "Q7. When do you consider allowing operator overloading of your classes?\n",
        "\n",
        "**Ans:** When we want to have different meaning for the same operator accroding to the context we use operator overloading."
      ],
      "metadata": {
        "id": "PbgCU1PaAqnc"
      }
    },
    {
      "cell_type": "markdown",
      "source": [
        "Q8. What is the most popular form of operator overloading?\n",
        "\n",
        "**Ans:**The most popular form of operator overloading in python is by special methods called Magic methods. Which usually beign and end with double underscore"
      ],
      "metadata": {
        "id": "UtpEnPP-AtF4"
      }
    },
    {
      "cell_type": "code",
      "source": [
        "class A:\n",
        "    def __init__(self,a):\n",
        "        self.a = a\n",
        "    def __add__(self,o):\n",
        "        return self.a+o.a\n",
        "obj1 = A(1)\n",
        "obj2 = A(2)\n",
        "obj3 = A('sai')\n",
        "obj4 = A(' krishna')\n",
        "print(f'Sum -> {obj1+obj2}')\n",
        "print(f'String Concatenation -> {obj3+obj4}')"
      ],
      "metadata": {
        "colab": {
          "base_uri": "https://localhost:8080/"
        },
        "id": "0DgCGd0EBDRO",
        "outputId": "8d9b3942-70dc-4d5e-a15c-e00a71a14f35"
      },
      "execution_count": 9,
      "outputs": [
        {
          "output_type": "stream",
          "name": "stdout",
          "text": [
            "Sum -> 3\n",
            "String Concatenation -> sai krishna\n"
          ]
        }
      ]
    },
    {
      "cell_type": "markdown",
      "source": [
        "Q9. What are the two most important concepts to grasp in order to comprehend Python OOP code?\n",
        "\n",
        "**Ans:** Classes and objects are the two concepts to comprehend python OOP code as more formally objects are entities that represent instances of general abstract concept called class\n",
        "\n",
        "Along with classes and objects the important concepts to grasp are:\n",
        "\n",
        "Inheritence\n",
        "\n",
        "Abstraction\n",
        "\n",
        "Polymorphism\n",
        "\n",
        "Encapsulation"
      ],
      "metadata": {
        "id": "XuV_35pOBQzg"
      }
    }
  ]
}